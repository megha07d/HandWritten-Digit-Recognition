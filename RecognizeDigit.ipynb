{
  "nbformat": 4,
  "nbformat_minor": 0,
  "metadata": {
    "colab": {
      "provenance": [],
      "collapsed_sections": [
        "0tfR1fnNzGWl"
      ],
      "authorship_tag": "ABX9TyNZ2+uwWap9avgHRdog2PRh",
      "include_colab_link": true
    },
    "kernelspec": {
      "name": "python3",
      "display_name": "Python 3"
    },
    "language_info": {
      "name": "python"
    }
  },
  "cells": [
    {
      "cell_type": "markdown",
      "metadata": {
        "id": "view-in-github",
        "colab_type": "text"
      },
      "source": [
        "<a href=\"https://colab.research.google.com/github/megha07d/HandWritten-Digit-Recognition/blob/main/RecognizeDigit.ipynb\" target=\"_parent\"><img src=\"https://colab.research.google.com/assets/colab-badge.svg\" alt=\"Open In Colab\"/></a>"
      ]
    },
    {
      "cell_type": "markdown",
      "source": [
        "# **Digit Recognizer**"
      ],
      "metadata": {
        "id": "6qjOEjEbAwNS"
      }
    },
    {
      "cell_type": "markdown",
      "source": [
        "### **Imports**"
      ],
      "metadata": {
        "id": "SuP0bJfzbiyh"
      }
    },
    {
      "cell_type": "code",
      "source": [
        "# TensorFlow and tf.keras\n",
        "import tensorflow as tf\n",
        "from tensorflow import keras\n",
        "\n",
        "# Helper libraries\n",
        "import numpy as np\n",
        "import matplotlib.pyplot as plt"
      ],
      "metadata": {
        "id": "rheSllIQbuYX"
      },
      "execution_count": null,
      "outputs": []
    },
    {
      "cell_type": "markdown",
      "source": [
        "## **Using Keras API to download dataset**"
      ],
      "metadata": {
        "id": "oQgDMxz9iNj4"
      }
    },
    {
      "cell_type": "code",
      "source": [
        "(train_pixels, train_labels), (test_pixels, test_labels) = tf.keras.datasets.mnist.load_data(path=\"mnist.npz\")"
      ],
      "metadata": {
        "id": "40EeyPsShwhe",
        "colab": {
          "base_uri": "https://localhost:8080/"
        },
        "outputId": "9d695a6f-a323-4fa9-e713-34b246c868b0"
      },
      "execution_count": null,
      "outputs": [
        {
          "output_type": "stream",
          "name": "stdout",
          "text": [
            "Downloading data from https://storage.googleapis.com/tensorflow/tf-keras-datasets/mnist.npz\n",
            "11490434/11490434 [==============================] - 0s 0us/step\n"
          ]
        }
      ]
    },
    {
      "cell_type": "markdown",
      "source": [
        "### **Data we are dealing with**"
      ],
      "metadata": {
        "id": "EVXw0j0Vi0qd"
      }
    },
    {
      "cell_type": "code",
      "source": [
        "type(train_pixels)\n",
        "print(f'Shape of data set is : {train_pixels.shape} - array of 60k matrices')\n",
        "print(f'Shape of each entry is : {train_pixels[0].shape} - a 28 x 28 matrix')\n",
        "print(f'Shape of each column in 28 x 28 matrix is : {train_pixels[0,0].shape}')\n",
        "print(f'Looking at one of the pixels loc@[0,10,20]: {train_pixels[0,10,20]}')\n",
        "\n",
        "# range of pixels\n",
        "np.amax(train_pixels[3])\n",
        "np.amax(train_pixels[3,19])\n"
      ],
      "metadata": {
        "colab": {
          "base_uri": "https://localhost:8080/"
        },
        "id": "5TXFi456inRH",
        "outputId": "39e68522-3bd6-4698-9d9a-b002d2601ccf"
      },
      "execution_count": null,
      "outputs": [
        {
          "output_type": "stream",
          "name": "stdout",
          "text": [
            "Shape of data set is : (60000, 28, 28) - array of 60k matrices\n",
            "Shape of each entry is : (28, 28) - a 28 x 28 matrix\n",
            "Shape of each column in 28 x 28 matrix is : (28,)\n",
            "Looking at one of the pixels loc@[0,10,20]: 0\n"
          ]
        },
        {
          "output_type": "execute_result",
          "data": {
            "text/plain": [
              "253"
            ]
          },
          "metadata": {},
          "execution_count": 3
        }
      ]
    },
    {
      "cell_type": "markdown",
      "source": [
        "## **Looking at images**"
      ],
      "metadata": {
        "id": "dBuvwL9jwykp"
      }
    },
    {
      "cell_type": "code",
      "source": [
        "plt.figure()\n",
        "plt.imshow(train_pixels[57395])\n",
        "plt.colorbar()\n",
        "plt.grid(False)\n",
        "plt.show()"
      ],
      "metadata": {
        "colab": {
          "base_uri": "https://localhost:8080/",
          "height": 265
        },
        "id": "HYl742i5w5Jb",
        "outputId": "4d48fad9-5615-4e7a-c8d5-37f2f88f4500"
      },
      "execution_count": null,
      "outputs": [
        {
          "output_type": "display_data",
          "data": {
            "text/plain": [
              "<Figure size 432x288 with 2 Axes>"
            ],
            "image/png": "[encoded data removed]"
          },
          "metadata": {
            "needs_background": "light"
          }
        }
      ]
    },
    {
      "cell_type": "markdown",
      "source": [
        "## **Normalize pixel values**\n",
        "\n",
        "\n",
        "> Pixel values range from 0 to 255 , lets normalize it to 0 to 1\n",
        "\n",
        "> We do this because model can process smaller values better"
      ],
      "metadata": {
        "id": "fngTikKmwfG4"
      }
    },
    {
      "cell_type": "markdown",
      "source": [
        "Understanding input data "
      ],
      "metadata": {
        "id": "lIaQC4zOzw2T"
      }
    },
    {
      "cell_type": "code",
      "source": [
        "train_pixels = train_pixels/255.0\n",
        "test_pixels = test_pixels/255.0"
      ],
      "metadata": {
        "id": "qCF8CGoAxms6"
      },
      "execution_count": null,
      "outputs": []
    },
    {
      "cell_type": "markdown",
      "source": [
        "Understanding Labels data "
      ],
      "metadata": {
        "id": "50BtEyO9z4oS"
      }
    },
    {
      "cell_type": "code",
      "source": [
        "type(train_labels)\n",
        "print(f'Shape of data set is : {test_labels.shape} - array of 60k matrices')\n",
        "train_labels[:10]"
      ],
      "metadata": {
        "colab": {
          "base_uri": "https://localhost:8080/"
        },
        "id": "Ft29wuUsi5ql",
        "outputId": "d6362c5d-5c30-4aa2-c043-548911475a69"
      },
      "execution_count": null,
      "outputs": [
        {
          "output_type": "stream",
          "name": "stdout",
          "text": [
            "Shape of data set is : (10000,) - array of 60k matrices\n"
          ]
        },
        {
          "output_type": "execute_result",
          "data": {
            "text/plain": [
              "array([5, 0, 4, 1, 9, 2, 1, 3, 1, 4], dtype=uint8)"
            ]
          },
          "metadata": {},
          "execution_count": 6
        }
      ]
    },
    {
      "cell_type": "markdown",
      "source": [
        "### **Class Labels**"
      ],
      "metadata": {
        "id": "S7WreFZlz-rQ"
      }
    },
    {
      "cell_type": "code",
      "source": [
        "class_labels = [0,1,2,3,4,5,6,7,8,9]"
      ],
      "metadata": {
        "id": "XE1BTwrx0EkL"
      },
      "execution_count": null,
      "outputs": []
    },
    {
      "cell_type": "markdown",
      "source": [
        "## **Let's Build the Model**\n",
        "We will use a Keras Sequential Model with three layers"
      ],
      "metadata": {
        "id": "0tfR1fnNzGWl"
      }
    },
    {
      "cell_type": "code",
      "source": [
        "model = keras.Sequential([\n",
        "    keras.layers.Flatten(input_shape=(28,28)),  #input layers with 784 neurons\n",
        "    keras.layers.Dense(128,activation='relu'),  #hidden layer with 128 neurons\n",
        "    keras.layers.Dense(10,activation='softmax') #output layer with 10 neurons\n",
        "])"
      ],
      "metadata": {
        "id": "Xe_-qf_CzMg9"
      },
      "execution_count": null,
      "outputs": []
    },
    {
      "cell_type": "markdown",
      "source": [
        "* For Input layer we used shape of '28x28' to receive the input and **Flatten** to condense it to 784 elements array\n",
        "* Hidden layers after input layer consists of 128 neurons and **Dense** indicates each neuron in this layer is connected to each neuron in previous layer\n",
        "* Rectify linear unit activation function used in hidden layer.\n",
        "* As expected, output layer should have 10 neurons symbolising 10 labels we expect.Thsi is also a **dense** layer.\n",
        "* Activation function softmax is used to represent probability density function for each class.Thus each of the 10 neurons value lies in range 0-1, signifying the chances of falling in respective class "
      ],
      "metadata": {
        "id": "otRJVjRH1Y0L"
      }
    },
    {
      "cell_type": "markdown",
      "source": [
        "## **Add Loss function, Optimizer and Metrics to model**"
      ],
      "metadata": {
        "id": "DXawtnbz3q4v"
      }
    },
    {
      "cell_type": "code",
      "source": [
        "model.compile(optimizer='adam',\n",
        "              loss='sparse_categorical_crossentropy',\n",
        "              metrics=['accuracy'])"
      ],
      "metadata": {
        "id": "kfONIdo63gtX"
      },
      "execution_count": null,
      "outputs": []
    },
    {
      "cell_type": "markdown",
      "source": [
        "## **Model Training Phase**"
      ],
      "metadata": {
        "id": "cTE8p-aF35Nk"
      }
    },
    {
      "cell_type": "code",
      "source": [
        "model.fit(train_pixels,train_labels,epochs=10)"
      ],
      "metadata": {
        "colab": {
          "base_uri": "https://localhost:8080/"
        },
        "id": "zyrcDcDQ3-g-",
        "outputId": "a8c8d167-5b8e-4fa7-aa95-23fd3bc5bf0f"
      },
      "execution_count": null,
      "outputs": [
        {
          "output_type": "stream",
          "name": "stdout",
          "text": [
            "Epoch 1/10\n",
            "1875/1875 [==============================] - 19s 9ms/step - loss: 0.2571 - accuracy: 0.9270\n",
            "Epoch 2/10\n",
            "1875/1875 [==============================] - 6s 3ms/step - loss: 0.1158 - accuracy: 0.9657\n",
            "Epoch 3/10\n",
            "1875/1875 [==============================] - 6s 3ms/step - loss: 0.0810 - accuracy: 0.9752\n",
            "Epoch 4/10\n",
            "1875/1875 [==============================] - 5s 3ms/step - loss: 0.0607 - accuracy: 0.9812\n",
            "Epoch 5/10\n",
            "1875/1875 [==============================] - 6s 3ms/step - loss: 0.0468 - accuracy: 0.9854\n",
            "Epoch 6/10\n",
            "1875/1875 [==============================] - 5s 3ms/step - loss: 0.0375 - accuracy: 0.9884\n",
            "Epoch 7/10\n",
            "1875/1875 [==============================] - 6s 3ms/step - loss: 0.0297 - accuracy: 0.9909\n",
            "Epoch 8/10\n",
            "1875/1875 [==============================] - 5s 3ms/step - loss: 0.0236 - accuracy: 0.9928\n",
            "Epoch 9/10\n",
            "1875/1875 [==============================] - 6s 3ms/step - loss: 0.0205 - accuracy: 0.9933\n",
            "Epoch 10/10\n",
            "1875/1875 [==============================] - 5s 3ms/step - loss: 0.0169 - accuracy: 0.9949\n"
          ]
        },
        {
          "output_type": "execute_result",
          "data": {
            "text/plain": [
              "<keras.callbacks.History at 0x7fc1b4f295b0>"
            ]
          },
          "metadata": {},
          "execution_count": 10
        }
      ]
    },
    {
      "cell_type": "markdown",
      "source": [
        "* Here, **epoch** specifies number of times training dataset passes through algorithm\n",
        "* Each pass changes the model parameters like weights and bias"
      ],
      "metadata": {
        "id": "RFupAop74ihX"
      }
    },
    {
      "cell_type": "markdown",
      "source": [
        "## **How good is our Model - Model Evaluation**"
      ],
      "metadata": {
        "id": "Tjs4ut9w5RFU"
      }
    },
    {
      "cell_type": "code",
      "source": [
        "test_loss, test_acc = model.evaluate(test_pixels,  test_labels, verbose=1) #verb = 1 shows progress bar\n",
        "\n",
        "print('Test accuracy:', test_acc)"
      ],
      "metadata": {
        "colab": {
          "base_uri": "https://localhost:8080/"
        },
        "id": "eLDvRQ0B5ZBA",
        "outputId": "5dced36a-750c-4843-be3b-e00d612e3597"
      },
      "execution_count": null,
      "outputs": [
        {
          "output_type": "stream",
          "name": "stdout",
          "text": [
            "313/313 [==============================] - 1s 2ms/step - loss: 0.0886 - accuracy: 0.9762\n",
            "Test accuracy: 0.9761999845504761\n"
          ]
        }
      ]
    },
    {
      "cell_type": "markdown",
      "source": [
        "## **Predicting the untouched data**"
      ],
      "metadata": {
        "id": "voYi0OES53Ye"
      }
    },
    {
      "cell_type": "code",
      "source": [
        "predictions = model.predict(test_pixels)"
      ],
      "metadata": {
        "colab": {
          "base_uri": "https://localhost:8080/"
        },
        "id": "LgTAtSxC57cW",
        "outputId": "bf6a42ba-2ba9-4faf-c8fc-9865b1586dea"
      },
      "execution_count": null,
      "outputs": [
        {
          "output_type": "stream",
          "name": "stdout",
          "text": [
            "313/313 [==============================] - 1s 2ms/step\n"
          ]
        }
      ]
    },
    {
      "cell_type": "code",
      "source": [
        "print(predictions)"
      ],
      "metadata": {
        "colab": {
          "base_uri": "https://localhost:8080/"
        },
        "id": "62V78UG_YiRw",
        "outputId": "6c87017e-c221-4059-98de-48dca8d1c3b1"
      },
      "execution_count": null,
      "outputs": [
        {
          "output_type": "stream",
          "name": "stdout",
          "text": [
            "[[5.4730958e-07 1.4926453e-09 6.9289297e-07 ... 9.9996167e-01\n",
            "  5.9951475e-08 1.6328206e-05]\n",
            " [9.5593664e-17 2.2021247e-08 9.9999994e-01 ... 4.8796578e-23\n",
            "  7.7079017e-11 6.7436449e-21]\n",
            " [7.6189902e-11 9.9960929e-01 1.5469343e-05 ... 1.0999682e-05\n",
            "  3.5531458e-04 6.5031230e-07]\n",
            " ...\n",
            " [1.0533118e-18 1.0828512e-11 6.7724837e-16 ... 4.7996596e-10\n",
            "  2.4129152e-09 5.7455827e-09]\n",
            " [4.7740117e-11 2.3509759e-14 1.4264211e-13 ... 3.8805351e-14\n",
            "  2.5352187e-04 9.0227083e-13]\n",
            " [5.6729634e-12 7.7295957e-20 8.4087138e-15 ... 2.9028547e-19\n",
            "  1.2961915e-14 6.0359928e-16]]\n"
          ]
        }
      ]
    },
    {
      "cell_type": "code",
      "source": [
        "print(len(test_pixels))\n",
        "print(len(test_pixels[0]))"
      ],
      "metadata": {
        "colab": {
          "base_uri": "https://localhost:8080/"
        },
        "id": "YNRgDUx5Var-",
        "outputId": "73580157-86ad-4285-8e17-ca63a1cccd7d"
      },
      "execution_count": null,
      "outputs": [
        {
          "output_type": "stream",
          "name": "stdout",
          "text": [
            "10000\n",
            "28\n"
          ]
        }
      ]
    },
    {
      "cell_type": "markdown",
      "source": [
        "## **Let's Analyze the predictions**"
      ],
      "metadata": {
        "id": "l06eArBc6Nqi"
      }
    },
    {
      "cell_type": "code",
      "source": [
        "print(f'Shape of pred_array is : {predictions.shape}')"
      ],
      "metadata": {
        "colab": {
          "base_uri": "https://localhost:8080/"
        },
        "id": "_hdwNsj96TJl",
        "outputId": "5e256a31-582e-4329-aa5c-c62a01534a2f"
      },
      "execution_count": null,
      "outputs": [
        {
          "output_type": "stream",
          "name": "stdout",
          "text": [
            "Shape of pred_array is : (10000, 10)\n"
          ]
        }
      ]
    },
    {
      "cell_type": "markdown",
      "source": [
        "* For each input image, we got a array of 10 values each representing 10 class-indices we have"
      ],
      "metadata": {
        "id": "uQWX01446eGK"
      }
    },
    {
      "cell_type": "markdown",
      "source": [
        "## **Pick the class with highest Probability**"
      ],
      "metadata": {
        "id": "GbL-7mLUjW1K"
      }
    },
    {
      "cell_type": "code",
      "source": [
        "np.argmax(predictions[46])"
      ],
      "metadata": {
        "colab": {
          "base_uri": "https://localhost:8080/"
        },
        "id": "4QEL2yIp61b9",
        "outputId": "e65de881-ced7-45f6-cc1f-55bc95dfeba0"
      },
      "execution_count": null,
      "outputs": [
        {
          "output_type": "execute_result",
          "data": {
            "text/plain": [
              "1"
            ]
          },
          "metadata": {},
          "execution_count": 16
        }
      ]
    },
    {
      "cell_type": "markdown",
      "source": [
        "# **Let's test the model : Image VS Prediction**"
      ],
      "metadata": {
        "id": "_1pwSMX2AM0Z"
      }
    },
    {
      "cell_type": "code",
      "source": [
        "def get_number():\n",
        "  while True:\n",
        "    num = input(\"Pick any sample from test data (enter 0-1000): \")\n",
        "    if num.isdigit():\n",
        "      num = int(num)\n",
        "      if 0 <= num <= 1000:\n",
        "        return int(num)\n",
        "    else:\n",
        "      print(\"Try again...\")\n",
        "num = get_number()\n",
        "\n",
        "# show the image of chosen Sample\n",
        "plt.figure()\n",
        "plt.imshow(test_pixels[num])\n",
        "plt.colorbar()\n",
        "plt.grid(False)\n",
        "plt.title('Sample Picked')\n",
        "plt.show()\n",
        "\n",
        "# Show the Digit prediction by model\n",
        "print(f'\\n\\nPredicted Digit is : {np.argmax(predictions[num])}')"
      ],
      "metadata": {
        "colab": {
          "base_uri": "https://localhost:8080/",
          "height": 353
        },
        "id": "qWbpYeND8kqI",
        "outputId": "ccfe454f-ec79-474d-d5d5-fa99450b1876"
      },
      "execution_count": null,
      "outputs": [
        {
          "name": "stdout",
          "output_type": "stream",
          "text": [
            "Pick any sample from test data (enter 0-1000): 456\n"
          ]
        },
        {
          "output_type": "display_data",
          "data": {
            "text/plain": [
              "<Figure size 432x288 with 2 Axes>"
            ],
            "image/png": "[encoded data removed]"
          },
          "metadata": {
            "needs_background": "light"
          }
        },
        {
          "output_type": "stream",
          "name": "stdout",
          "text": [
            "\n",
            "\n",
            "Predicted Digit is : 2\n"
          ]
        }
      ]
    }
  ]
}